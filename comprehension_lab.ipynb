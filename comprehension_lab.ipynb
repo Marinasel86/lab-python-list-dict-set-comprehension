{
 "cells": [
  {
   "cell_type": "code",
   "execution_count": null,
   "metadata": {},
   "outputs": [],
   "source": [
    "# 1. Review your code from the previous exercise and identify areas where you can apply comprehension to simplify and streamline your code."
   ]
  },
  {
   "cell_type": "code",
   "execution_count": 17,
   "metadata": {},
   "outputs": [],
   "source": [
    "# adding inventory quantity to a list of producst\n",
    "products = {\"keychain\", \"t-shirt\", \"book\", \"hat\", \"mug\"}"
   ]
  },
  {
   "cell_type": "code",
   "execution_count": 18,
   "metadata": {},
   "outputs": [],
   "source": [
    "comp_inventory = {product: int(input(f\"Enter the quantity of {product}s available: \")) for product in products}"
   ]
  },
  {
   "cell_type": "code",
   "execution_count": 19,
   "metadata": {},
   "outputs": [
    {
     "data": {
      "text/plain": [
       "{'book': 1, 'hat': 4, 'keychain': 4, 'mug': 5, 't-shirt': 2}"
      ]
     },
     "execution_count": 19,
     "metadata": {},
     "output_type": "execute_result"
    }
   ],
   "source": [
    "comp_inventory"
   ]
  },
  {
   "cell_type": "code",
   "execution_count": 20,
   "metadata": {},
   "outputs": [],
   "source": [
    "customer_order = {'hat': 1, 'book': 1, 'keychain': 1}"
   ]
  },
  {
   "cell_type": "code",
   "execution_count": 21,
   "metadata": {},
   "outputs": [
    {
     "name": "stdout",
     "output_type": "stream",
     "text": [
      "{'book': 0, 'hat': 3, 'keychain': 3, 'mug': 5, 't-shirt': 2}\n"
     ]
    }
   ],
   "source": [
    "# updating inventory after customer order and printing updated inventory\n",
    "updated_inventory = {product: comp_inventory[product] - customer_order.get(product, 0) for product in comp_inventory}\n",
    "\n",
    "print(updated_inventory)"
   ]
  },
  {
   "cell_type": "code",
   "execution_count": null,
   "metadata": {},
   "outputs": [],
   "source": [
    "# 2. Modify the function get_customer_orders so it prompts the user to enter the number of customer orders and gathers the product names using a loop and user input."
   ]
  },
  {
   "cell_type": "code",
   "execution_count": 22,
   "metadata": {},
   "outputs": [
    {
     "name": "stdout",
     "output_type": "stream",
     "text": [
      "{'keychain': 1, 't-shirt': 1, 'book': 1, 'hat': 1, 'mug': 1}\n"
     ]
    }
   ],
   "source": [
    "products = [\"keychain\", \"t-shirt\", \"book\", \"hat\", \"mug\"]\n",
    "customer_order_new = {product: quantity for product, quantity in [(product, int(input(f\"Enter the quantity of {product}s you want to order: \"))) for product in products] if quantity > 0}\n",
    "print(customer_order_new)"
   ]
  },
  {
   "cell_type": "code",
   "execution_count": null,
   "metadata": {},
   "outputs": [],
   "source": [
    "# 3. Add a new function to calculate the total price of the customer order. For each product in customer_orders, prompt the user to enter the price of that product. Use comprehension to calculate the total price."
   ]
  },
  {
   "cell_type": "code",
   "execution_count": 23,
   "metadata": {},
   "outputs": [
    {
     "name": "stdout",
     "output_type": "stream",
     "text": [
      "Your total price is: 10 \n"
     ]
    }
   ],
   "source": [
    "prices = {int(input(f\"How much does the {product} cost?\")) for product in customer_order_new}\n",
    "total_price = sum(prices)\n",
    "print(f\"Your total price is: {total_price} \")"
   ]
  },
  {
   "cell_type": "code",
   "execution_count": null,
   "metadata": {},
   "outputs": [],
   "source": [
    "# 4. Modify the update_inventory function to remove the product from the inventory if its quantity becomes zero after fulfilling the customer orders. Use comprehension to filter out the products with a quantity of zero from the inventory.\n"
   ]
  },
  {
   "cell_type": "code",
   "execution_count": 27,
   "metadata": {},
   "outputs": [
    {
     "data": {
      "text/plain": [
       "{'book': 1, 'hat': 4, 'keychain': 4, 'mug': 5, 't-shirt': 2}"
      ]
     },
     "execution_count": 27,
     "metadata": {},
     "output_type": "execute_result"
    }
   ],
   "source": [
    "inventory2 = {'book': 1, 'hat': 4, 'keychain': 4, 'mug': 5, 't-shirt': 2}\n",
    "inventory2\n"
   ]
  },
  {
   "cell_type": "code",
   "execution_count": 28,
   "metadata": {},
   "outputs": [
    {
     "name": "stdout",
     "output_type": "stream",
     "text": [
      "{'book': 1, 'hat': 3, 'keychain': 1, 'mug': 4, 't-shirt': 2}\n"
     ]
    }
   ],
   "source": [
    "customer_order_new2 = {product: quantity for product, quantity in [(product, int(input(f\"Enter the quantity of {product}s you want to order: \"))) for product in inventory2] if quantity > 0}\n",
    "print(customer_order_new2)"
   ]
  },
  {
   "cell_type": "code",
   "execution_count": 30,
   "metadata": {},
   "outputs": [
    {
     "name": "stdout",
     "output_type": "stream",
     "text": [
      "{'hat': 1, 'keychain': 3, 'mug': 1}\n"
     ]
    }
   ],
   "source": [
    "def update_inventory(inventory2, customer_order_new2):\n",
    "    updated_inventory = {product: comp_inventory[product] - customer_order_new2.get(product, 0) for product in inventory2}\n",
    "\n",
    "    updated_inventory = {product: quantity for product, quantity in updated_inventory.items() if quantity > 0}\n",
    "\n",
    "    return updated_inventory\n",
    "\n",
    "updated_inventory = update_inventory(inventory2, customer_order_new2)\n",
    "\n",
    "print(updated_inventory)"
   ]
  },
  {
   "cell_type": "code",
   "execution_count": 40,
   "metadata": {},
   "outputs": [
    {
     "name": "stdout",
     "output_type": "stream",
     "text": [
      "Number of unique products ordered: 3\n",
      "Total unique percentage: 60.0\n"
     ]
    }
   ],
   "source": [
    "unique_products_ordered = len(update_inventory)\n",
    "total_unique_percentage = (unique_products_ordered / len(inventory2)) * 100\n",
    "print(\"Number of unique products ordered:\", unique_products_ordered)\n",
    "print(\"Total unique percentage:\", total_unique_percentage)"
   ]
  }
 ],
 "metadata": {
  "kernelspec": {
   "display_name": "base",
   "language": "python",
   "name": "python3"
  },
  "language_info": {
   "codemirror_mode": {
    "name": "ipython",
    "version": 3
   },
   "file_extension": ".py",
   "mimetype": "text/x-python",
   "name": "python",
   "nbconvert_exporter": "python",
   "pygments_lexer": "ipython3",
   "version": "3.9.13"
  },
  "orig_nbformat": 4
 },
 "nbformat": 4,
 "nbformat_minor": 2
}
